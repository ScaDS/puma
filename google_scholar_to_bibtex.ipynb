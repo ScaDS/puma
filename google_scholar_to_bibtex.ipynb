{
 "cells": [
  {
   "cell_type": "markdown",
   "metadata": {},
   "source": [
    "# Export publications from Google Scholar to BibTeX\n",
    "\n",
    "First, import the required library"
   ]
  },
  {
   "cell_type": "code",
   "execution_count": 1,
   "metadata": {},
   "outputs": [],
   "source": [
    "from scholarly import scholarly"
   ]
  },
  {
   "cell_type": "markdown",
   "metadata": {},
   "source": [
    "Get the author profile using the Google Scholar ID"
   ]
  },
  {
   "cell_type": "code",
   "execution_count": 2,
   "metadata": {},
   "outputs": [],
   "source": [
    "author_id = 'giB4g-MAAAAJ'\n",
    "author = scholarly.search_author_id(author_id)\n",
    "author = scholarly.fill(author)"
   ]
  },
  {
   "cell_type": "markdown",
   "metadata": {},
   "source": [
    "Retrieve and fill each publication's details, create BibTeX entries"
   ]
  },
  {
   "cell_type": "code",
   "execution_count": 3,
   "metadata": {},
   "outputs": [
    {
     "name": "stdout",
     "output_type": "stream",
     "text": [
      "Star-convex polyhedra for 3D object detection and segmentation in microscopy\n",
      "Exploratory prospective trial of hypoxia-specific PET imaging during radiochemotherapy in patients with locally advanced head-and-neck cancer\n",
      "LABKIT: labeling and segmentation toolkit for big image data\n",
      "Common limitations of image processing metrics: A picture story\n",
      "CLIJ: GPU-accelerated image processing for everyone\n",
      "Metrics reloaded: recommendations for image analysis validation\n",
      "Identification of patient benefit from proton therapy for advanced head and neck cancer patients based on individual and subgroup normal tissue complication probability analysis\n",
      "Regionalized tissue fluidization is required for epithelial gap closure during insect gastrulation\n",
      "Spatial distribution of FMISO in head and neck squamous cell carcinomas during radio-chemotherapy and its correlation to pattern of failure\n",
      "Precise image-guided irradiation of small animals: a flexible non-profit platform\n",
      "NTCP reduction for advanced head and neck cancer patients using proton therapy for complete or sequential boost treatment versus photon therapy\n",
      "Two or four hour [18F] FMISO-PET in HNSCC\n",
      "Open microscopy in the life sciences: quo vadis?\n",
      "Zebrahub–Multimodal zebrafish developmental atlas reveals the State-transition dynamics of late-vertebrate pluripotent axial progenitors\n",
      "A hitchhiker's guide through the bio‐image analysis software universe\n",
      "High-precision image-guided proton irradiation of mouse brain sub-volumes\n",
      "Developing open-source software for bioimage analysis: opportunities and challenges\n",
      "Prognostic value of baseline [18F]-fluorodeoxyglucose positron emission tomography parameters MTV, TLG and asphericity in an international multicenter cohort of nasopharyngeal carcinoma patients\n",
      "FMISO-PET-based lymph node hypoxia adds to the prognostic value of tumor only hypoxia in HNSCC patients\n",
      "The RNA binding protein human antigen R is a gatekeeper of liver homeostasis\n",
      "Interactive design of GPU-accelerated image data flow graphs and cross-platform deployment using multi-lingual code generation\n",
      "Highlights from the 2016-2020 NEUBIAS training schools for Bioimage Analysts: a success story and key asset for analysts and life scientists\n",
      "Bat teeth illuminate the diversification of mammalian tooth classes\n",
      "Physical correction model for automatic correction of intensity non-uniformity in magnetic resonance imaging\n",
      "Exogenous ethanol induces a metabolic switch that prolongs the survival of Caenorhabditis elegans dauer larva and enhances its resistance to desiccation\n",
      "FDG uptake in normal tissues assessed by PET during treatment has prognostic value for treatment results in head and neck squamous cell carcinomas undergoing radiochemotherapy\n",
      "Correlation between FMISO-PET based hypoxia in the primary tumour and in lymph node metastases in locally advanced HNSCC patients\n",
      "Evaluation of a deformable registration algorithm for subsequent lung computed tomography imaging during radiochemotherapy\n",
      "Challenges and opportunities for bioimage analysis core‐facilities\n",
      "73 Characterization of deformation vector fields for the registration of dose distributions in adaptive treatment planning and sequential boost protocols\n",
      "Meeting in the middle: towards successful multidisciplinary bioimage analysis collaboration\n",
      "Time to upgrade: A new OpenSPIM guide to build and operate advanced OpenSPIM configurations\n",
      "Image processing filters for grids of cells analogous to filters processing grids of pixels\n",
      "Dose–volume predictors of early esophageal toxicity in non-small cell lung cancer patients treated with accelerated-hyperfractionated radiotherapy\n",
      "Swarm intelligence for medical volume segmentation: the contribution of self-reproduction\n",
      "EDAM-bioimaging: The ontology of bioimage informatics operations, topics, data, and formats (update 2020)\n",
      "Bio-Image Informatics Index BIII: A unique database of image analysis tools and workflows for and by the bioimaging community\n",
      "A new segmentation algorithm for low contrast positron emission tomography based on ant colony optimization\n",
      "Gut Analysis Toolbox–automating quantitative analysis of enteric neurons\n",
      "Benchmarking Large Language Models for Bio-Image Analysis Code Generation\n",
      "A Call for FAIR and Open-Access Training Materials to advance Bioimage Analysis\n",
      "NanoPyx: super-fast bioimage analysis powered by adaptive machine learning\n",
      "CLIJ: Enabling GPU-accelerated image processing in Fiji\n",
      "Analysis of actomyosin dynamics at local cellular and tissue scales using time-lapse movies of cultured drosophila egg chambers\n",
      "Optimisation and Validation of a Swarm Intelligence Based Segmentation Algorithm for Low Contrast Positron Emission Tomography\n",
      "Self-reproduction versus transition rules in ant colonies for medical volume segmentation\n",
      "The crucial role of bioimage analysts in scientific research and publication\n",
      "Gliding motility of the diatom Craspedostauros australis coincides with the intracellular movement of raphid-specific myosins\n",
      "Slice2Volume: Fusion of multimodal medical imaging and light microscopy data of irradiation-injured brain tissue in 3D\n",
      "GPU-accelerating ImageJ Macro image processing workflows using CLIJ\n",
      "HohlbeinLab/OpenMicroscopy: V02_release\n",
      "Bat teeth illuminate the diversification of mammalian tooth classes\n",
      "18 Reproducible and Accurate Automatic Correction of Intensity Non-Uniformity in MRI Data\n",
      "A multimodal zebrafish developmental atlas reveals the state-transition dynamics of late-vertebrate pluripotent axial progenitors\n",
      "Automated Quantification of Photoreceptor Outer Segments in Developing and Degenerating Retinas on Microscopic Images across Scales\n",
      "Timely neurogenesis enables increased nuclear packing order during neuronal lamination\n",
      "Gliding motility of the diatom Craspedostauros australis correlates with the intracellular movement of raphid-specific myosins\n",
      "NanoPyx: super-fast bioimage analysis powered by adaptive machine learning\n",
      "The Fiji Updater, My favorite image analysis tool, by Neubias members\n",
      "The prognostic value of FMISO-PET-based synchronous tumor and lymph node hypoxia outperforms that of tumor hypoxia only in patients with advanced stage HNSSC-secondary analysis of Dresden FMISO trail\n",
      "On the Reliability of Automatic Volume Delineation in Low-Contrast [18F]FMISO-PET Imaging\n",
      "Spatial distribution of FMISO in head and neck squamous cell carcinomas during radio-chemotherapy and its correlation to pattern of failure\n",
      "Image Guided orthotopic Tumor Models in Small Animals\n",
      "PO-0898: Identification of individual NTCP benefit of dose-escalated IMPT in advanced HNC patients\n",
      "10LBA Final results of the prospective DDFMISO-trial validating hypoxiaspecific PET imaging during radiochemotherapy for local control of locally advanced head-and-neck cancer\n",
      "Influence of deformable Image Registration of PET/CT Data on Signal Values wihin a Contour: Deformation on Contours or Image Data?\n",
      "Stabilität des Hypoxietracers [18 F]-FMISO während sequentieller PET-Untersuchungen bei Patienten mit radiochemotherapierten HNO-Tumoren und Korrelation von funktionellen Tumor-Subvolumina zur Rezidivlokalisation\n",
      "PO-0958: Hypoxia in tumor and LN metastases in course of radiochemotherapy of advanced head-and-neck cancers\n",
      "Stability of the Hypoxia Tracer 18F-FMISO during sequential PET-Studies in Patients with radio chemotherapy ENT-Tumors and Correlation of functional Tumor-Subvolumes for Recurrence Localization\n",
      "Segmentation of subsequent FMISO-PET before and during radiochemotherapy: Experts versus swarm intelligence\n",
      "Swarm intelligence allows automatic volume analysis basing on low contrast [18F]-fluoromisonidazole-PET of head and neck cancer patients\n",
      "Fluor-18-Misonidazol-PET/CT unter kurativ intendierter Radiochemotherapie bei Patienten mit lokal fortgeschrittenen Kopf-Hals-Tumoren (KHT)–eine prospektive Explorationsstudie\n",
      "Usefulness of voxel-wise Pearson correlation coefficient for reproducibility and repeatability measurements in PET\n",
      "Virtuelle Ameisen zur Segmentierung von Positronen-Emissions-Tomographie Daten: Auswirkungen auf die Receiver Operating Characteristic\n",
      "Zwei oder vier Stunden [18F] FMISO-PET in Kopf-Hals-Karzinomen: Wann ist der Bildkontrast am höchsten?\n",
      "Two or four hour [18F] FMISO-PET in HNSCC\n",
      "Wie weit bewegen sich die Schwerpunkte hypoxischer Tumorsubvolumina von HNO-Tumoren unter kombinierter Radiochemotherapie.\n",
      "HohlbeinLab/OpenMicroscopy\n",
      "125 Automated lesion contouring in PET: Inter-algorithm-variability is a surrogate for contour accuracy\n",
      "Registration of complete 3D histological tumor datasets with in vivo MRI: first experience\n",
      "Registration of histological 3D-Data sets and fusion using in vivo MRT\n"
     ]
    }
   ],
   "source": [
    "bibtex_entries = []\n",
    "for pub in author['publications']:\n",
    "    pub_filled = scholarly.fill(pub)\n",
    "    if 'bib' in pub_filled:\n",
    "        title = pub_filled['bib'].get('title', '')\n",
    "        print(title)\n",
    "\n",
    "        # Use title as citation key if cites not available\n",
    "        cite_key = title.split()[0].lower()\n",
    "        bibtex = f\"@article{{{cite_key},\\n\"\n",
    "        for key, value in pub_filled['bib'].items():\n",
    "            if key != 'cites':\n",
    "                bibtex += f\"  {key} = {{{value}}},\\n\"\n",
    "        bibtex += \"}\"\n",
    "        bibtex_entries.append(bibtex)"
   ]
  },
  {
   "cell_type": "markdown",
   "metadata": {},
   "source": [
    "Save the BibTeX entries to a file"
   ]
  },
  {
   "cell_type": "code",
   "execution_count": 5,
   "metadata": {},
   "outputs": [],
   "source": [
    "with open('publications.bib', 'w', encoding='utf-8') as f:\n",
    "    for entry in bibtex_entries:\n",
    "        f.write(entry + '\\n\\n')"
   ]
  },
  {
   "cell_type": "code",
   "execution_count": null,
   "metadata": {},
   "outputs": [],
   "source": []
  }
 ],
 "metadata": {
  "kernelspec": {
   "display_name": "Python 3 (ipykernel)",
   "language": "python",
   "name": "python3"
  },
  "language_info": {
   "codemirror_mode": {
    "name": "ipython",
    "version": 3
   },
   "file_extension": ".py",
   "mimetype": "text/x-python",
   "name": "python",
   "nbconvert_exporter": "python",
   "pygments_lexer": "ipython3",
   "version": "3.11.10"
  }
 },
 "nbformat": 4,
 "nbformat_minor": 4
}
