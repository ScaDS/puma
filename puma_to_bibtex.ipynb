{
 "cells": [
  {
   "cell_type": "markdown",
   "id": "da203cbf-eacf-4215-8885-42b4b34db182",
   "metadata": {},
   "source": [
    "# Export PUMA entries to bibtex\n",
    "In this notebook we will export data from the PUMA database to a bibtex file."
   ]
  },
  {
   "cell_type": "code",
   "execution_count": 1,
   "id": "cf7b5cc3-e329-4192-81c3-2809309143ce",
   "metadata": {},
   "outputs": [],
   "source": [
    "from puma_utils import list_bib"
   ]
  },
  {
   "cell_type": "markdown",
   "id": "bedb4b8a-ce1b-4969-998c-31606427333f",
   "metadata": {},
   "source": [
    "We are going to search for all publications containing a specific term:"
   ]
  },
  {
   "cell_type": "code",
   "execution_count": 2,
   "id": "fc3d87ce-d9e7-4916-8677-6d33ad46db50",
   "metadata": {},
   "outputs": [
    {
     "data": {
      "text/plain": [
       "74"
      ]
     },
     "execution_count": 2,
     "metadata": {},
     "output_type": "execute_result"
    }
   ],
   "source": [
    "bibtex_entries = list_bib(\"Towards\")\n",
    "len(bibtex_entries)"
   ]
  },
  {
   "cell_type": "code",
   "execution_count": 3,
   "id": "7e0926ba-ba32-47b8-94ea-f9b9834605ed",
   "metadata": {},
   "outputs": [
    {
     "name": "stdout",
     "output_type": "stream",
     "text": [
      "@inproceedings{8bc633b90f8f4feb9394495dd0a374ab,\n",
      "  title = {Spatiality and Semantics - Towards Understanding Content Placement in Mixed Reality},\n",
      "  misc = {  isbn = {9781450394215},\n",
      "  language = {English},\n",
      "  doi = {10.1145/3544549.3585853}},\n",
      "  address = {United States of America},\n",
      "  author = {Ellenberg, {Mats Ole} and Satkowski, Marc and Luo, Weizhou and Dachselt, Raimund},\n",
      "  booktitle = {CHI 2023 - Extended Abstracts of the 2023 CHI Conference on Human Factors in Computing Systems},\n",
      "  note = {Publisher Copyright: {\\textcopyright} 2023 Owner/Author.},\n",
      "  pages = {254:1--254:8},\n",
      "  publisher = {Association for Computing Machinery (ACM), New York},\n",
      "  day = {19},\n",
      "  month = {04},\n",
      "  year = {2023},\n",
      "}\n"
     ]
    }
   ],
   "source": [
    "print(bibtex_entries[0])"
   ]
  },
  {
   "cell_type": "markdown",
   "id": "12593c7a-bac7-461a-b7ff-ea9430f5ccf2",
   "metadata": {},
   "source": [
    "We can also search for an author by name and year:"
   ]
  },
  {
   "cell_type": "code",
   "execution_count": 4,
   "id": "e498bc78-b755-4053-9aa8-7e60d432a8a2",
   "metadata": {},
   "outputs": [
    {
     "name": "stdout",
     "output_type": "stream",
     "text": [
      "number of publications: 12\n"
     ]
    }
   ],
   "source": [
    "bibtex_entries = list_bib(\"Robert Haase\", year=2024)\n",
    "print(\"number of publications:\", len(bibtex_entries))"
   ]
  },
  {
   "cell_type": "markdown",
   "id": "1da239fe-6088-464c-bd04-861442bb008f",
   "metadata": {},
   "source": [
    "Eventually, we can also save the data into a bibtex file."
   ]
  },
  {
   "cell_type": "code",
   "execution_count": 5,
   "id": "b1a94465-fcdb-4fc0-bc90-5eddc71165b3",
   "metadata": {},
   "outputs": [],
   "source": [
    "with open('publications.bib', 'w', encoding='utf-8') as f:\n",
    "    for entry in bibtex_entries:\n",
    "        f.write(entry + '\\n\\n')"
   ]
  },
  {
   "cell_type": "code",
   "execution_count": null,
   "id": "ce1c6a77-e648-4537-8897-baa94b7b244e",
   "metadata": {},
   "outputs": [],
   "source": []
  }
 ],
 "metadata": {
  "kernelspec": {
   "display_name": "Python 3 (ipykernel)",
   "language": "python",
   "name": "python3"
  },
  "language_info": {
   "codemirror_mode": {
    "name": "ipython",
    "version": 3
   },
   "file_extension": ".py",
   "mimetype": "text/x-python",
   "name": "python",
   "nbconvert_exporter": "python",
   "pygments_lexer": "ipython3",
   "version": "3.11.10"
  }
 },
 "nbformat": 4,
 "nbformat_minor": 5
}
